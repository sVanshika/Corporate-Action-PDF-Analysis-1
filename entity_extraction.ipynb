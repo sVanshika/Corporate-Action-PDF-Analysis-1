{
  "nbformat": 4,
  "nbformat_minor": 0,
  "metadata": {
    "kernelspec": {
      "display_name": "Python 3",
      "language": "python",
      "name": "python3"
    },
    "language_info": {
      "codemirror_mode": {
        "name": "ipython",
        "version": 3
      },
      "file_extension": ".py",
      "mimetype": "text/x-python",
      "name": "python",
      "nbconvert_exporter": "python",
      "pygments_lexer": "ipython3",
      "version": "3.7.0"
    },
    "colab": {
      "name": "entity_extraction.ipynb",
      "provenance": [],
      "collapsed_sections": [],
      "include_colab_link": true
    }
  },
  "cells": [
    {
      "cell_type": "markdown",
      "metadata": {
        "id": "view-in-github",
        "colab_type": "text"
      },
      "source": [
        "<a href=\"https://colab.research.google.com/github/samyak-bhagat/Corporate-Action-PDF-Analysis/blob/main/entity_extraction.ipynb\" target=\"_parent\"><img src=\"https://colab.research.google.com/assets/colab-badge.svg\" alt=\"Open In Colab\"/></a>"
      ]
    },
    {
      "cell_type": "code",
      "metadata": {
        "colab": {
          "base_uri": "https://localhost:8080/"
        },
        "id": "WkYGKygpJ2C9",
        "outputId": "2a2358bb-667a-4253-9b8a-e40119e1fed0"
      },
      "source": [
        "from google.colab import drive\n",
        "drive.mount('/content/drive')"
      ],
      "execution_count": null,
      "outputs": [
        {
          "output_type": "stream",
          "text": [
            "Mounted at /content/drive\n"
          ],
          "name": "stdout"
        }
      ]
    },
    {
      "cell_type": "code",
      "metadata": {
        "id": "UtPSf6tkTOyQ"
      },
      "source": [
        "import spacy\n",
        "import json\n",
        "\n",
        "\n",
        "'''\n",
        "TRAIN_DATA = [\n",
        "    (\"Who is Shaka Khan?\", {\"entities\": [(7, 17, \"PERSON\")]}),\n",
        "    (\"I like London and Berlin.\", {\"entities\": [(7, 13, \"LOC\"), (18, 24, \"LOC\")]}),\n",
        "]\n",
        "'''\n",
        "\n",
        "nlp = spacy.load('drive/MyDrive/ner_2')"
      ],
      "execution_count": null,
      "outputs": []
    },
    {
      "cell_type": "code",
      "metadata": {
        "id": "zS0vM92dTOyZ",
        "colab": {
          "base_uri": "https://localhost:8080/",
          "height": 376
        },
        "outputId": "b40f5f21-a76b-49ed-a090-75976ba8dbcf"
      },
      "source": [
        "print(\"Enter summary to test\")\n",
        "text = input()\n",
        "\n",
        "print(\"\\n\\nSummary: \", text)\n",
        "\n",
        "entities = {\"summary\":text}\n",
        "\n",
        "doc = nlp(text)\n",
        "for ent in doc.ents:\n",
        "  print(ent.label_, \"->\", ent.text)\n",
        "  entities[ent.label_] = ent.text\n",
        "\n",
        "\n",
        "print(\"\\n\\n\\nEntities extraction visualization!\")\n",
        "spacy.displacy.render(doc, style=\"ent\", jupyter=True)"
      ],
      "execution_count": null,
      "outputs": [
        {
          "output_type": "stream",
          "text": [
            "Enter summary to test\n",
            "YUVRAAJ HYGIENE PRODUCTS LTD.has informed BSE that the meeting of the Board of Directors of the Company is scheduled on 12/11/2020 ,inter alia, to consider and approve Update on board meeting: Pursuant to the provisions of Regulation 29 of SEBI (Listing Obligations and Disclosure Requirements) Regulations, 2015, (Listing Regulations) and in furtherance to our intimation letter dated 5th November, 2020, we wish to inform you that the Board of Directors of the Company in their meeting scheduled to be held on Thursday, 12th November, 2020 inter alia, shall also consider and approve issue of Equity Shares on Preferential basis, subject to approval of the Members of the Company and regulatory / statutory approvals and requirements, as may be necessary.\n",
            "\n",
            "\n",
            "Summary:  YUVRAAJ HYGIENE PRODUCTS LTD.has informed BSE that the meeting of the Board of Directors of the Company is scheduled on 12/11/2020 ,inter alia, to consider and approve Update on board meeting: Pursuant to the provisions of Regulation 29 of SEBI (Listing Obligations and Disclosure Requirements) Regulations, 2015, (Listing Regulations) and in furtherance to our intimation letter dated 5th November, 2020, we wish to inform you that the Board of Directors of the Company in their meeting scheduled to be held on Thursday, 12th November, 2020 inter alia, shall also consider and approve issue of Equity Shares on Preferential basis, subject to approval of the Members of the Company and regulatory / statutory approvals and requirements, as may be necessary.\n",
            "Type -> meeting of the Board of Directors\n",
            "Int -> scheduled on\n",
            "SDate -> 12/11/2020\n",
            "\n",
            "\n",
            "\n",
            "Entities extraction visualization!\n"
          ],
          "name": "stdout"
        },
        {
          "output_type": "display_data",
          "data": {
            "text/html": [
              "<span class=\"tex2jax_ignore\"><div class=\"entities\" style=\"line-height: 2.5; direction: ltr\">YUVRAAJ HYGIENE PRODUCTS LTD.has informed BSE that the \n",
              "<mark class=\"entity\" style=\"background: #ddd; padding: 0.45em 0.6em; margin: 0 0.25em; line-height: 1; border-radius: 0.35em;\">\n",
              "    meeting of the Board of Directors\n",
              "    <span style=\"font-size: 0.8em; font-weight: bold; line-height: 1; border-radius: 0.35em; text-transform: uppercase; vertical-align: middle; margin-left: 0.5rem\">Type</span>\n",
              "</mark>\n",
              " of the Company is \n",
              "<mark class=\"entity\" style=\"background: #ddd; padding: 0.45em 0.6em; margin: 0 0.25em; line-height: 1; border-radius: 0.35em;\">\n",
              "    scheduled on\n",
              "    <span style=\"font-size: 0.8em; font-weight: bold; line-height: 1; border-radius: 0.35em; text-transform: uppercase; vertical-align: middle; margin-left: 0.5rem\">Int</span>\n",
              "</mark>\n",
              " \n",
              "<mark class=\"entity\" style=\"background: #ddd; padding: 0.45em 0.6em; margin: 0 0.25em; line-height: 1; border-radius: 0.35em;\">\n",
              "    12/11/2020\n",
              "    <span style=\"font-size: 0.8em; font-weight: bold; line-height: 1; border-radius: 0.35em; text-transform: uppercase; vertical-align: middle; margin-left: 0.5rem\">SDate</span>\n",
              "</mark>\n",
              " ,inter alia, to consider and approve Update on board meeting: Pursuant to the provisions of Regulation 29 of SEBI (Listing Obligations and Disclosure Requirements) Regulations, 2015, (Listing Regulations) and in furtherance to our intimation letter dated 5th November, 2020, we wish to inform you that the Board of Directors of the Company in their meeting scheduled to be held on Thursday, 12th November, 2020 inter alia, shall also consider and approve issue of Equity Shares on Preferential basis, subject to approval of the Members of the Company and regulatory / statutory approvals and requirements, as may be necessary.</div></span>"
            ],
            "text/plain": [
              "<IPython.core.display.HTML object>"
            ]
          },
          "metadata": {
            "tags": []
          }
        }
      ]
    },
    {
      "cell_type": "code",
      "metadata": {
        "id": "n2ECqbIKzzC0",
        "colab": {
          "base_uri": "https://localhost:8080/"
        },
        "outputId": "04352eb2-0280-4a66-b2a8-c5e55ad70c85"
      },
      "source": [
        "entities #json\n"
      ],
      "execution_count": null,
      "outputs": [
        {
          "output_type": "execute_result",
          "data": {
            "text/plain": [
              "{'Int': 'scheduled on',\n",
              " 'SDate': '11/11/2020',\n",
              " 'Type': 'meeting of the Board of Directors',\n",
              " 'summary': 'KARTIK INVESTMENTS TRUST LTD.has informed BSE that the meeting of the Board of Directors of the Company is scheduled on 11/11/2020 ,inter alia, to consider and approve unaudited financial results for the quarter ended September 30, 2020.'}"
            ]
          },
          "metadata": {
            "tags": []
          },
          "execution_count": 28
        }
      ]
    }
  ]
}